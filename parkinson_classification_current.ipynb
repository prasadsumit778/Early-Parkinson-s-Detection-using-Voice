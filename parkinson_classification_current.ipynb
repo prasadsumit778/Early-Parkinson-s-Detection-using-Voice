{
  "cells": [
    {
      "cell_type": "code",
      "execution_count": null,
      "id": "cfa6a929",
      "metadata": {
        "id": "cfa6a929"
      },
      "outputs": [],
      "source": [
        "import os\n",
        "import numpy as np\n",
        "import pandas as pd\n",
        "import soundfile as sf\n",
        "import librosa\n",
        "from sklearn.preprocessing import StandardScaler"
      ]
    },
    {
      "cell_type": "code",
      "source": [
        "from google.colab import drive\n",
        "drive.mount('/content/drive')"
      ],
      "metadata": {
        "colab": {
          "base_uri": "https://localhost:8080/"
        },
        "id": "cghCwFvKJeur",
        "outputId": "d5079cd5-1ead-46cb-cfbe-bb736741b18d"
      },
      "id": "cghCwFvKJeur",
      "execution_count": null,
      "outputs": [
        {
          "output_type": "stream",
          "name": "stdout",
          "text": [
            "Drive already mounted at /content/drive; to attempt to forcibly remount, call drive.mount(\"/content/drive\", force_remount=True).\n"
          ]
        }
      ]
    },
    {
      "cell_type": "code",
      "execution_count": null,
      "id": "717e0007",
      "metadata": {
        "id": "717e0007"
      },
      "outputs": [],
      "source": [
        "audio_original  = '/content/drive/MyDrive/Dataset/Parkinson_Positive'"
      ]
    },
    {
      "cell_type": "code",
      "execution_count": null,
      "id": "16ab1df4",
      "metadata": {
        "id": "16ab1df4"
      },
      "outputs": [],
      "source": [
        "snr_db=20"
      ]
    },
    {
      "cell_type": "code",
      "execution_count": null,
      "id": "0d418fc7",
      "metadata": {
        "id": "0d418fc7"
      },
      "outputs": [],
      "source": [
        "for file in os.listdir(audio_original):\n",
        "    audio_path = os.path.join(audio_original,file)\n",
        "    audio,sr=sf.read(audio_path)\n",
        "    noise_samples=np.random.randn(len(audio))\n",
        "    signal_power= np.mean(audio**2)\n",
        "    noise_power = np.mean(noise_samples**2)\n",
        "    scale_factor= np.sqrt(signal_power/(noise_power*(10**(snr_db/10))))\n",
        "    noisy_audio = audio + scale_factor*noise_samples\n",
        "    augmented_filename= f\"augmented_{file}\"\n",
        "    audio_generated = '/content/drive/MyDrive/Dataset/audio_generated_positive'\n",
        "    augmented_filepath = os.path.join(audio_generated,augmented_filename)\n",
        "    sf.write(augmented_filepath,noisy_audio,sr)"
      ]
    },
    {
      "cell_type": "code",
      "execution_count": null,
      "id": "bffec283",
      "metadata": {
        "id": "bffec283"
      },
      "outputs": [],
      "source": [
        "import librosa\n",
        "time_stretch_factor=1.5\n",
        "for file in os.listdir(audio_original):\n",
        "    file_path = os.path.join(audio_original, file)\n",
        "    audio,sr = librosa.load(file_path,sr=4000)\n",
        "    time_stretched= librosa.effects.time_stretch(audio, rate=time_stretch_factor)\n",
        "    output_file = f\"time_stretched_{file}\"\n",
        "    audio_generated = '/content/drive/MyDrive/Dataset/audio_generated_positive'\n",
        "    output_path = os.path.join(audio_generated, output_file)\n",
        "    sf.write(output_path, time_stretched, sr)"
      ]
    },
    {
      "cell_type": "code",
      "execution_count": null,
      "id": "0783f273",
      "metadata": {
        "id": "0783f273",
        "colab": {
          "base_uri": "https://localhost:8080/",
          "height": 339
        },
        "outputId": "6cdc0521-95eb-4e9a-834d-7e30667aadeb"
      },
      "outputs": [
        {
          "output_type": "error",
          "ename": "FileNotFoundError",
          "evalue": "[Errno 2] No such file or directory: 'C:\\\\Users\\\\AL56170\\\\Downloads\\\\Parkinson_dataset\\\\Parkinson_negative'",
          "traceback": [
            "\u001b[0;31m---------------------------------------------------------------------------\u001b[0m",
            "\u001b[0;31mFileNotFoundError\u001b[0m                         Traceback (most recent call last)",
            "\u001b[0;32m<ipython-input-17-23cf10df02af>\u001b[0m in \u001b[0;36m<cell line: 28>\u001b[0;34m()\u001b[0m\n\u001b[1;32m     27\u001b[0m \u001b[0;34m\u001b[0m\u001b[0m\n\u001b[1;32m     28\u001b[0m \u001b[0;32mif\u001b[0m \u001b[0m__name__\u001b[0m \u001b[0;34m==\u001b[0m \u001b[0;34m'__main__'\u001b[0m\u001b[0;34m:\u001b[0m\u001b[0;34m\u001b[0m\u001b[0;34m\u001b[0m\u001b[0m\n\u001b[0;32m---> 29\u001b[0;31m     \u001b[0mmain\u001b[0m\u001b[0;34m(\u001b[0m\u001b[0;34m)\u001b[0m\u001b[0;34m\u001b[0m\u001b[0;34m\u001b[0m\u001b[0m\n\u001b[0m",
            "\u001b[0;32m<ipython-input-17-23cf10df02af>\u001b[0m in \u001b[0;36mmain\u001b[0;34m()\u001b[0m\n\u001b[1;32m     24\u001b[0m \u001b[0;34m\u001b[0m\u001b[0m\n\u001b[1;32m     25\u001b[0m     \u001b[0;31m# Call the copy_files function\u001b[0m\u001b[0;34m\u001b[0m\u001b[0;34m\u001b[0m\u001b[0m\n\u001b[0;32m---> 26\u001b[0;31m     \u001b[0mcopy_files\u001b[0m\u001b[0;34m(\u001b[0m\u001b[0msource_folder\u001b[0m\u001b[0;34m,\u001b[0m \u001b[0mdestination_folder\u001b[0m\u001b[0;34m)\u001b[0m\u001b[0;34m\u001b[0m\u001b[0;34m\u001b[0m\u001b[0m\n\u001b[0m\u001b[1;32m     27\u001b[0m \u001b[0;34m\u001b[0m\u001b[0m\n\u001b[1;32m     28\u001b[0m \u001b[0;32mif\u001b[0m \u001b[0m__name__\u001b[0m \u001b[0;34m==\u001b[0m \u001b[0;34m'__main__'\u001b[0m\u001b[0;34m:\u001b[0m\u001b[0;34m\u001b[0m\u001b[0;34m\u001b[0m\u001b[0m\n",
            "\u001b[0;32m<ipython-input-17-23cf10df02af>\u001b[0m in \u001b[0;36mcopy_files\u001b[0;34m(source_folder, destination_folder)\u001b[0m\n\u001b[1;32m      4\u001b[0m \u001b[0;32mdef\u001b[0m \u001b[0mcopy_files\u001b[0m\u001b[0;34m(\u001b[0m\u001b[0msource_folder\u001b[0m\u001b[0;34m,\u001b[0m \u001b[0mdestination_folder\u001b[0m\u001b[0;34m)\u001b[0m\u001b[0;34m:\u001b[0m\u001b[0;34m\u001b[0m\u001b[0;34m\u001b[0m\u001b[0m\n\u001b[1;32m      5\u001b[0m     \u001b[0;31m# Get a list of all audio files in the source folder\u001b[0m\u001b[0;34m\u001b[0m\u001b[0;34m\u001b[0m\u001b[0m\n\u001b[0;32m----> 6\u001b[0;31m     \u001b[0maudio_files\u001b[0m \u001b[0;34m=\u001b[0m \u001b[0;34m[\u001b[0m\u001b[0mfile\u001b[0m \u001b[0;32mfor\u001b[0m \u001b[0mfile\u001b[0m \u001b[0;32min\u001b[0m \u001b[0mos\u001b[0m\u001b[0;34m.\u001b[0m\u001b[0mlistdir\u001b[0m\u001b[0;34m(\u001b[0m\u001b[0msource_folder\u001b[0m\u001b[0;34m)\u001b[0m \u001b[0;32mif\u001b[0m \u001b[0mfile\u001b[0m\u001b[0;34m.\u001b[0m\u001b[0mendswith\u001b[0m\u001b[0;34m(\u001b[0m\u001b[0;34m'.wav'\u001b[0m\u001b[0;34m)\u001b[0m\u001b[0;34m]\u001b[0m\u001b[0;34m\u001b[0m\u001b[0;34m\u001b[0m\u001b[0m\n\u001b[0m\u001b[1;32m      7\u001b[0m \u001b[0;34m\u001b[0m\u001b[0m\n\u001b[1;32m      8\u001b[0m     \u001b[0;31m# Create the destination folder if it doesn't exist\u001b[0m\u001b[0;34m\u001b[0m\u001b[0;34m\u001b[0m\u001b[0m\n",
            "\u001b[0;31mFileNotFoundError\u001b[0m: [Errno 2] No such file or directory: 'C:\\\\Users\\\\AL56170\\\\Downloads\\\\Parkinson_dataset\\\\Parkinson_negative'"
          ]
        }
      ],
      "source": [
        "\n",
        "import os\n",
        "import shutil\n",
        "\n",
        "def copy_files(source_folder, destination_folder):\n",
        "    # Get a list of all audio files in the source folder\n",
        "    audio_files = [file for file in os.listdir(source_folder) if file.endswith('.wav')]\n",
        "\n",
        "    # Create the destination folder if it doesn't exist\n",
        "    if not os.path.exists(destination_folder):\n",
        "        os.makedirs(destination_folder)\n",
        "\n",
        "    for audio_file in audio_files:\n",
        "        # Get the source and destination file paths\n",
        "        source_path = os.path.join(source_folder, audio_file)\n",
        "        destination_path = os.path.join(destination_folder, audio_file)\n",
        "\n",
        "        # Copy the file from the source to the destination folder\n",
        "        shutil.copy(source_path, destination_path)\n",
        "\n",
        "def main():\n",
        "    # Set the paths to the source and destination folders\n",
        "    source_folder = r'C:\\Users\\AL56170\\Downloads\\Parkinson_dataset\\Parkinson_negative'\n",
        "    destination_folder = 'u'\n",
        "\n",
        "    # Call the copy_files function\n",
        "    copy_files(source_folder, destination_folder)\n",
        "\n",
        "if __name__ == '__main__':\n",
        "    main()\n"
      ]
    },
    {
      "cell_type": "code",
      "execution_count": null,
      "id": "b6aded8c",
      "metadata": {
        "id": "b6aded8c"
      },
      "outputs": [],
      "source": [
        "audio_original = '/content/drive/MyDrive/Dataset/audio_generated_positive'\n",
        "target_duration = 200\n",
        "for file in os.listdir(audio_original):\n",
        "    if file.endswith(\".wav\"):  # Adjust file extensions as needed\n",
        "        file_path = os.path.join(audio_original, file)\n",
        "        audio,sr = librosa.load(file_path,sr=None)\n",
        "        current_duration=librosa.get_duration(y=audio,sr=sr)\n",
        "        if current_duration<target_duration:\n",
        "            pad_length = int((target_duration - current_duration)*sr)\n",
        "            padded_audio=np.pad(audio,(0,pad_length), mode='constant')\n",
        "            sf.write(file_path,padded_audio,sr)\n",
        "        elif current_duration>target_duration:\n",
        "            num_samples = int(target_duration*sr)\n",
        "            truncated_audio = audio[:num_samples]\n",
        "            sf.write(file_path, truncated_audio, sr)"
      ]
    },
    {
      "cell_type": "code",
      "execution_count": null,
      "id": "6e6ff802",
      "metadata": {
        "id": "6e6ff802",
        "outputId": "00398ee7-8d5e-4917-b0ab-7406153cece7",
        "colab": {
          "base_uri": "https://localhost:8080/"
        }
      },
      "outputs": [
        {
          "output_type": "stream",
          "name": "stdout",
          "text": [
            "Combined Features Shape: (100, 1563, 15)\n",
            "Combined Features Shape: (100, 1563, 15)\n"
          ]
        }
      ],
      "source": [
        "audio_folder_positive = '/content/drive/MyDrive/Dataset/audio_generated_positive'\n",
        "audio_folder_negative = '/content/drive/MyDrive/Dataset/audio_generated_negative'\n",
        "n_mfcc = 15\n",
        "hop_length=512\n",
        "win_length=512\n",
        "positive_features = []\n",
        "negative_features = []\n",
        "for file_name in os.listdir(audio_folder_positive):\n",
        "    if file_name.endswith('.wav'):\n",
        "        audio_path = os.path.join(audio_folder_positive, file_name)\n",
        "        audio, sr = librosa.load(audio_path, sr=4000)\n",
        "        mfcc = librosa.feature.mfcc(y=audio, sr=sr, n_mfcc=n_mfcc, hop_length=hop_length, win_length=win_length)\n",
        "        positive_features.append(mfcc.T)  # Transpose for shape compatibility\n",
        "\n",
        "for file_name in os.listdir(audio_folder_negative):\n",
        "    if file_name.endswith('.wav'):\n",
        "        audio_path = os.path.join(audio_folder_negative, file_name)\n",
        "        audio, sr = librosa.load(audio_path, sr=4000)\n",
        "        mfcc = librosa.feature.mfcc(y=audio, sr=sr, n_mfcc=n_mfcc, hop_length=hop_length, win_length=win_length)\n",
        "        negative_features.append(mfcc.T)  # Transpose for shape compatibility\n",
        "positive_features = np.array(positive_features)\n",
        "negative_features = np.array(negative_features)\n",
        "print(\"Combined Features Shape:\", positive_features.shape)\n",
        "print(\"Combined Features Shape:\", negative_features.shape)"
      ]
    },
    {
      "cell_type": "code",
      "source": [
        "X_p = positive_features.reshape(positive_features.shape[0],-1)\n",
        "X_n = negative_features.reshape(negative_features.shape[0],-1)\n",
        "X__ = np.concatenate((X_p,X_n),axis=0)"
      ],
      "metadata": {
        "id": "Vp4S8cg8P1G5"
      },
      "id": "Vp4S8cg8P1G5",
      "execution_count": null,
      "outputs": []
    },
    {
      "cell_type": "code",
      "source": [
        "X__.shape"
      ],
      "metadata": {
        "colab": {
          "base_uri": "https://localhost:8080/"
        },
        "id": "nX8ggNvEP7NY",
        "outputId": "dccf77a2-0f99-4133-fa61-718aebce7dbf"
      },
      "id": "nX8ggNvEP7NY",
      "execution_count": null,
      "outputs": [
        {
          "output_type": "execute_result",
          "data": {
            "text/plain": [
              "(200, 23445)"
            ]
          },
          "metadata": {},
          "execution_count": 31
        }
      ]
    },
    {
      "cell_type": "code",
      "execution_count": null,
      "id": "5ae58e46",
      "metadata": {
        "id": "5ae58e46"
      },
      "outputs": [],
      "source": [
        "Y=np.concatenate((np.ones(len(positive_features)),np.zeros(len(negative_features))),axis=0)"
      ]
    },
    {
      "cell_type": "code",
      "execution_count": null,
      "id": "c74d59b3",
      "metadata": {
        "id": "c74d59b3",
        "outputId": "a0d9a4cb-6316-4c53-fc97-56677fa644a9",
        "colab": {
          "base_uri": "https://localhost:8080/"
        }
      },
      "outputs": [
        {
          "output_type": "execute_result",
          "data": {
            "text/plain": [
              "(200,)"
            ]
          },
          "metadata": {},
          "execution_count": 33
        }
      ],
      "source": [
        "Y.shape"
      ]
    },
    {
      "cell_type": "code",
      "execution_count": null,
      "id": "9215754c",
      "metadata": {
        "id": "9215754c",
        "outputId": "c6f4d13e-1619-423e-dac2-06912f93752d",
        "colab": {
          "base_uri": "https://localhost:8080/"
        }
      },
      "outputs": [
        {
          "output_type": "stream",
          "name": "stdout",
          "text": [
            "Spectral Centroid Features Folder 1 Shape: (100, 1563)\n",
            "Spectral Bandwidth Features Folder 1 Shape: (100, 1563)\n",
            "Spectral Centroid Features Folder 2 Shape: (100, 1563)\n",
            "Spectral Bandwidth Features Folder 2 Shape: (100, 1563)\n"
          ]
        }
      ],
      "source": [
        "audio_folder_1 = '/content/drive/MyDrive/Dataset/audio_generated_positive'\n",
        "audio_folder_2 = '/content/drive/MyDrive/Dataset/audio_generated_negative'\n",
        "spectral_centroid_features_folder1 = []\n",
        "spectral_bandwidth_features_folder1 = []\n",
        "spectral_contrast_features_folder1 = []\n",
        "\n",
        "spectral_centroid_features_folder2 = []\n",
        "spectral_bandwidth_features_folder2 = []\n",
        "spectral_contrast_features_folder2 = []\n",
        "\n",
        "def extract_spectral_features(audio_folder):\n",
        "    spectral_centroid_features = []\n",
        "    spectral_bandwidth_features = []\n",
        "    spectral_contrast_features = []\n",
        "    for file_name in os.listdir(audio_folder):\n",
        "        if file_name.endswith('.wav'):\n",
        "            audio_path = os.path.join(audio_folder, file_name)\n",
        "            audio, sr = librosa.load(audio_path, sr=4000)\n",
        "            spectral_centroid = librosa.feature.spectral_centroid(y=audio, sr=sr)\n",
        "            spectral_centroid_features.append(spectral_centroid)\n",
        "            spectral_bandwidth = librosa.feature.spectral_bandwidth(y=audio, sr=sr)\n",
        "            spectral_bandwidth_features.append(spectral_bandwidth)\n",
        "    spectral_centroid_features = np.array(spectral_centroid_features)\n",
        "    spectral_bandwidth_features = np.array(spectral_bandwidth_features)\n",
        "    spectral_centroid_features= np.squeeze(spectral_centroid_features)\n",
        "    spectral_bandwidth_features= np.squeeze(spectral_bandwidth_features)\n",
        "    return spectral_centroid_features, spectral_bandwidth_features,\n",
        "spectral_centroid_features_folder1, spectral_bandwidth_features_folder1 = extract_spectral_features(audio_folder_1)\n",
        "spectral_centroid_features_folder2, spectral_bandwidth_features_folder2 = extract_spectral_features(audio_folder_2)\n",
        "print(\"Spectral Centroid Features Folder 1 Shape:\", spectral_centroid_features_folder1.shape)\n",
        "print(\"Spectral Bandwidth Features Folder 1 Shape:\", spectral_bandwidth_features_folder1.shape)\n",
        "\n",
        "\n",
        "print(\"Spectral Centroid Features Folder 2 Shape:\", spectral_centroid_features_folder2.shape)\n",
        "print(\"Spectral Bandwidth Features Folder 2 Shape:\", spectral_bandwidth_features_folder2.shape)\n",
        "\n",
        "\n"
      ]
    },
    {
      "cell_type": "code",
      "execution_count": null,
      "id": "a019f2e2",
      "metadata": {
        "id": "a019f2e2",
        "outputId": "9bfd173b-59f0-44c8-da78-a547761e52ec",
        "colab": {
          "base_uri": "https://localhost:8080/"
        }
      },
      "outputs": [
        {
          "output_type": "execute_result",
          "data": {
            "text/plain": [
              "array([[903.65969806, 934.22455826, 947.29523103, ...,   0.        ,\n",
              "          0.        ,   0.        ],\n",
              "       [940.29156512, 936.44226579, 947.64601305, ...,   0.        ,\n",
              "          0.        ,   0.        ],\n",
              "       [943.6792746 , 935.86956728, 958.54356358, ...,   0.        ,\n",
              "          0.        ,   0.        ],\n",
              "       ...,\n",
              "       [683.9226433 , 704.28011654, 811.34543725, ...,   0.        ,\n",
              "          0.        ,   0.        ],\n",
              "       [564.46929751, 537.77630344, 490.17336415, ...,   0.        ,\n",
              "          0.        ,   0.        ],\n",
              "       [528.60326985, 445.02499798, 451.35623032, ...,   0.        ,\n",
              "          0.        ,   0.        ]])"
            ]
          },
          "metadata": {},
          "execution_count": 42
        }
      ],
      "source": [
        "X_p = np.concatenate((spectral_centroid_features_folder1,spectral_bandwidth_features_folder1),axis=1)\n",
        "X_n = np.concatenate((spectral_centroid_features_folder2,spectral_bandwidth_features_folder2),axis=1)\n",
        "X__ = np.concatenate((X_p,X_n),axis=0)\n",
        "X__.shape\n",
        "X__"
      ]
    },
    {
      "cell_type": "code",
      "execution_count": null,
      "id": "58f814d0",
      "metadata": {
        "id": "58f814d0",
        "outputId": "d2bce3c8-b130-4e4a-b894-c4d311584523",
        "colab": {
          "base_uri": "https://localhost:8080/"
        }
      },
      "outputs": [
        {
          "output_type": "execute_result",
          "data": {
            "text/plain": [
              "array([[ 1.04986607,  1.22982936,  1.36467668, ..., -0.10048225,\n",
              "        -0.10047323, -0.1004206 ],\n",
              "       [ 1.21730794,  1.2403189 ,  1.36636994, ..., -0.10048225,\n",
              "        -0.10047323, -0.1004206 ],\n",
              "       [ 1.23279294,  1.23761009,  1.41897334, ..., -0.10048225,\n",
              "        -0.10047323, -0.1004206 ],\n",
              "       ...,\n",
              "       [ 0.04546235,  0.14221437,  0.70843545, ..., -0.10048225,\n",
              "        -0.10047323, -0.1004206 ],\n",
              "       [-0.50055109, -0.64533257, -0.84188952, ..., -0.10048225,\n",
              "        -0.10047323, -0.1004206 ],\n",
              "       [-0.66449236, -1.08403728, -1.02926313, ..., -0.10048225,\n",
              "        -0.10047323, -0.1004206 ]])"
            ]
          },
          "metadata": {},
          "execution_count": 43
        }
      ],
      "source": [
        "scaler = StandardScaler()\n",
        "scaler.fit(X__)\n",
        "X__input = scaler.transform(X__)\n",
        "X__input"
      ]
    },
    {
      "cell_type": "code",
      "source": [
        "import joblib"
      ],
      "metadata": {
        "id": "arRxi3-OQjrg"
      },
      "id": "arRxi3-OQjrg",
      "execution_count": null,
      "outputs": []
    },
    {
      "cell_type": "code",
      "execution_count": null,
      "id": "9072345a",
      "metadata": {
        "id": "9072345a",
        "outputId": "6d344995-fd16-44ea-9bdd-317122030dc7",
        "colab": {
          "base_uri": "https://localhost:8080/"
        }
      },
      "outputs": [
        {
          "output_type": "execute_result",
          "data": {
            "text/plain": [
              "['scaler.pkl']"
            ]
          },
          "metadata": {},
          "execution_count": 45
        }
      ],
      "source": [
        "scaler = StandardScaler()\n",
        "scaler.fit(X__)\n",
        "X_input = scaler.transform(X__)\n",
        "joblib.dump(scaler,\"scaler.pkl\")"
      ]
    },
    {
      "cell_type": "code",
      "execution_count": null,
      "id": "d3c41734",
      "metadata": {
        "id": "d3c41734",
        "outputId": "77e51ad5-c792-4c87-ae2a-3d5e543db07b",
        "colab": {
          "base_uri": "https://localhost:8080/"
        }
      },
      "outputs": [
        {
          "output_type": "execute_result",
          "data": {
            "text/plain": [
              "array([[ 1.04986607,  1.22982936,  1.36467668, ..., -0.10048225,\n",
              "        -0.10047323, -0.1004206 ],\n",
              "       [ 1.21730794,  1.2403189 ,  1.36636994, ..., -0.10048225,\n",
              "        -0.10047323, -0.1004206 ],\n",
              "       [ 1.23279294,  1.23761009,  1.41897334, ..., -0.10048225,\n",
              "        -0.10047323, -0.1004206 ],\n",
              "       ...,\n",
              "       [ 0.04546235,  0.14221437,  0.70843545, ..., -0.10048225,\n",
              "        -0.10047323, -0.1004206 ],\n",
              "       [-0.50055109, -0.64533257, -0.84188952, ..., -0.10048225,\n",
              "        -0.10047323, -0.1004206 ],\n",
              "       [-0.66449236, -1.08403728, -1.02926313, ..., -0.10048225,\n",
              "        -0.10047323, -0.1004206 ]])"
            ]
          },
          "metadata": {},
          "execution_count": 46
        }
      ],
      "source": [
        "X_input = np.concatenate((X_input,X__input),axis=1)\n",
        "X_input"
      ]
    },
    {
      "cell_type": "code",
      "execution_count": null,
      "id": "36dd45ae",
      "metadata": {
        "id": "36dd45ae"
      },
      "outputs": [],
      "source": [
        "from sklearn.model_selection import train_test_split\n",
        "from sklearn.model_selection import cross_val_score,cross_val_predict\n",
        "\n",
        "X_train,X_test, Y_train,Y_test=train_test_split(X_input,Y,test_size=0.2,random_state=40)"
      ]
    },
    {
      "cell_type": "code",
      "execution_count": null,
      "id": "8eefc980",
      "metadata": {
        "id": "8eefc980"
      },
      "outputs": [],
      "source": [
        "from sklearn.svm import SVC\n",
        "from sklearn.metrics import accuracy_score,classification_report"
      ]
    },
    {
      "cell_type": "code",
      "execution_count": null,
      "id": "d4cc7d34",
      "metadata": {
        "id": "d4cc7d34",
        "outputId": "5f1a6691-8697-4554-cc01-f7f2d87b8f54",
        "colab": {
          "base_uri": "https://localhost:8080/"
        }
      },
      "outputs": [
        {
          "output_type": "execute_result",
          "data": {
            "text/plain": [
              "0.75"
            ]
          },
          "metadata": {},
          "execution_count": 49
        }
      ],
      "source": [
        "classifier = SVC(kernel = 'linear',random_state = 42)\n",
        "classifier.fit(X_train,Y_train)\n",
        "y_pred = classifier.predict(X_test)\n",
        "accuracy = accuracy_score(Y_test,y_pred)\n",
        "accuracy"
      ]
    },
    {
      "cell_type": "code",
      "execution_count": null,
      "id": "73c14951",
      "metadata": {
        "id": "73c14951"
      },
      "outputs": [],
      "source": [
        "y_pred = classifier.predict(X_test)"
      ]
    },
    {
      "cell_type": "code",
      "execution_count": null,
      "id": "23184696",
      "metadata": {
        "id": "23184696"
      },
      "outputs": [],
      "source": [
        "accuracy = accuracy_score(Y_test,y_pred)"
      ]
    },
    {
      "cell_type": "code",
      "execution_count": null,
      "id": "7e96d33c",
      "metadata": {
        "id": "7e96d33c",
        "outputId": "84a141aa-6c17-46e7-dd08-08d9674d63f7",
        "colab": {
          "base_uri": "https://localhost:8080/"
        }
      },
      "outputs": [
        {
          "output_type": "execute_result",
          "data": {
            "text/plain": [
              "0.75"
            ]
          },
          "metadata": {},
          "execution_count": 52
        }
      ],
      "source": [
        "accuracy"
      ]
    },
    {
      "cell_type": "code",
      "execution_count": null,
      "id": "8786971d",
      "metadata": {
        "id": "8786971d",
        "outputId": "def8a543-82cc-4f47-9e66-05bcd12ff322",
        "colab": {
          "base_uri": "https://localhost:8080/"
        }
      },
      "outputs": [
        {
          "output_type": "execute_result",
          "data": {
            "text/plain": [
              "array([[ 1.04986607,  1.22982936,  1.36467668, ..., -0.10047323,\n",
              "        -0.1004206 ,  1.        ],\n",
              "       [ 1.21730794,  1.2403189 ,  1.36636994, ..., -0.10047323,\n",
              "        -0.1004206 ,  1.        ],\n",
              "       [ 1.23279294,  1.23761009,  1.41897334, ..., -0.10047323,\n",
              "        -0.1004206 ,  1.        ],\n",
              "       ...,\n",
              "       [ 0.04546235,  0.14221437,  0.70843545, ..., -0.10047323,\n",
              "        -0.1004206 ,  0.        ],\n",
              "       [-0.50055109, -0.64533257, -0.84188952, ..., -0.10047323,\n",
              "        -0.1004206 ,  0.        ],\n",
              "       [-0.66449236, -1.08403728, -1.02926313, ..., -0.10047323,\n",
              "        -0.1004206 ,  0.        ]])"
            ]
          },
          "metadata": {},
          "execution_count": 53
        }
      ],
      "source": [
        "final_dataset = np.concatenate((X_input,Y.reshape(-1,1)),axis=1)\n",
        "final_dataset"
      ]
    },
    {
      "cell_type": "code",
      "execution_count": null,
      "id": "51c92264",
      "metadata": {
        "id": "51c92264"
      },
      "outputs": [],
      "source": [
        "np.random.shuffle(final_dataset)"
      ]
    },
    {
      "cell_type": "code",
      "execution_count": null,
      "id": "cd63be7a",
      "metadata": {
        "id": "cd63be7a",
        "outputId": "5965736c-9fab-4a1b-e76a-854075e01b06",
        "colab": {
          "base_uri": "https://localhost:8080/"
        }
      },
      "outputs": [
        {
          "output_type": "execute_result",
          "data": {
            "text/plain": [
              "array([[ 0.23893247,  0.62108464,  1.03661235, ..., -0.10048225,\n",
              "        -0.10047323, -0.1004206 ],\n",
              "       [-1.40134681, -1.26906509, -1.13418672, ..., -0.10048225,\n",
              "        -0.10047323, -0.1004206 ],\n",
              "       [-1.6654982 , -1.81745344, -1.89306927, ..., -0.10048225,\n",
              "        -0.10047323, -0.1004206 ],\n",
              "       ...,\n",
              "       [ 1.08072382,  1.20263737,  1.42357812, ..., -0.10048225,\n",
              "        -0.10047323, -0.1004206 ],\n",
              "       [ 0.13548329, -0.04967412, -0.07899414, ..., -0.10048225,\n",
              "        -0.10047323, -0.1004206 ],\n",
              "       [-0.21778734,  0.11640413,  0.26129464, ..., -0.10048225,\n",
              "        -0.10047323, -0.1004206 ]])"
            ]
          },
          "metadata": {},
          "execution_count": 55
        }
      ],
      "source": [
        "X_final = final_dataset[:,:-1]\n",
        "X_final"
      ]
    },
    {
      "cell_type": "code",
      "execution_count": null,
      "id": "6687ab2a",
      "metadata": {
        "id": "6687ab2a",
        "outputId": "44650f77-eaf2-472f-a689-04a26617508e",
        "colab": {
          "base_uri": "https://localhost:8080/"
        }
      },
      "outputs": [
        {
          "output_type": "execute_result",
          "data": {
            "text/plain": [
              "(200,)"
            ]
          },
          "metadata": {},
          "execution_count": 56
        }
      ],
      "source": [
        "Y_final = final_dataset[:,-1]\n",
        "Y_final.shape"
      ]
    },
    {
      "cell_type": "code",
      "execution_count": null,
      "id": "f267996a",
      "metadata": {
        "id": "f267996a"
      },
      "outputs": [],
      "source": [
        "#performing cross validation\n",
        "model=SVC()\n",
        "model_predict=cross_val_predict(model,X_final,Y_final,cv=10)\n",
        "model_score=cross_val_score(model,X_final,Y_final,cv=10)"
      ]
    },
    {
      "cell_type": "code",
      "execution_count": null,
      "id": "5a19b8a3",
      "metadata": {
        "id": "5a19b8a3",
        "outputId": "2deaed99-3c9d-40a1-dae5-2b86570d90a9",
        "colab": {
          "base_uri": "https://localhost:8080/"
        }
      },
      "outputs": [
        {
          "output_type": "execute_result",
          "data": {
            "text/plain": [
              "0.7799999999999999"
            ]
          },
          "metadata": {},
          "execution_count": 58
        }
      ],
      "source": [
        "model_score.mean()\n"
      ]
    },
    {
      "cell_type": "code",
      "execution_count": null,
      "id": "81f6d9ed",
      "metadata": {
        "id": "81f6d9ed",
        "outputId": "8aa3297e-68a2-4864-fe51-18ade9c685b9",
        "colab": {
          "base_uri": "https://localhost:8080/"
        }
      },
      "outputs": [
        {
          "output_type": "execute_result",
          "data": {
            "text/plain": [
              "array([0., 1., 1., 1., 1., 0., 1., 0., 0., 1., 1., 1., 1., 1., 1., 0., 1.,\n",
              "       1., 0., 0., 1., 1., 0., 0., 0., 0., 0., 1., 1., 0., 1., 0., 1., 0.,\n",
              "       0., 0., 0., 1., 1., 0., 0., 0., 0., 1., 1., 1., 1., 1., 1., 0., 1.,\n",
              "       0., 1., 1., 1., 0., 1., 0., 0., 0., 1., 1., 0., 1., 0., 1., 1., 1.,\n",
              "       1., 1., 1., 1., 1., 1., 1., 0., 0., 1., 0., 0., 0., 1., 0., 0., 1.,\n",
              "       1., 1., 0., 1., 1., 0., 0., 1., 1., 0., 0., 1., 1., 1., 0., 0., 1.,\n",
              "       0., 0., 1., 0., 1., 0., 0., 0., 1., 0., 1., 0., 1., 0., 1., 0., 1.,\n",
              "       1., 0., 0., 1., 1., 0., 0., 0., 1., 1., 1., 1., 1., 0., 0., 1., 1.,\n",
              "       1., 0., 0., 0., 0., 0., 0., 1., 0., 0., 0., 0., 1., 0., 1., 0., 1.,\n",
              "       1., 1., 1., 0., 1., 1., 0., 1., 1., 0., 1., 0., 1., 0., 0., 1., 1.,\n",
              "       1., 0., 0., 0., 0., 1., 1., 1., 0., 0., 1., 1., 0., 1., 1., 1., 1.,\n",
              "       0., 1., 1., 1., 0., 1., 1., 1., 1., 1., 0., 0., 1.])"
            ]
          },
          "metadata": {},
          "execution_count": 59
        }
      ],
      "source": [
        "model_predict"
      ]
    },
    {
      "cell_type": "code",
      "execution_count": null,
      "id": "d9305aef",
      "metadata": {
        "id": "d9305aef",
        "outputId": "26b8aa6d-519f-4a51-b27e-3c965d120fda",
        "colab": {
          "base_uri": "https://localhost:8080/"
        }
      },
      "outputs": [
        {
          "output_type": "execute_result",
          "data": {
            "text/plain": [
              "array([[73, 27],\n",
              "       [17, 83]])"
            ]
          },
          "metadata": {},
          "execution_count": 60
        }
      ],
      "source": [
        "from sklearn.metrics import confusion_matrix,f1_score\n",
        "\n",
        "confusion_result = confusion_matrix(Y_final,model_predict)\n",
        "confusion_result"
      ]
    },
    {
      "cell_type": "code",
      "execution_count": null,
      "id": "00adea94",
      "metadata": {
        "id": "00adea94"
      },
      "outputs": [],
      "source": [
        "from imblearn.over_sampling import RandomOverSampler\n",
        "from imblearn.under_sampling import RandomUnderSampler"
      ]
    },
    {
      "cell_type": "code",
      "execution_count": null,
      "id": "a284e1ec",
      "metadata": {
        "id": "a284e1ec",
        "outputId": "8451da74-4465-411a-a58f-3b8d2e1840c5",
        "colab": {
          "base_uri": "https://localhost:8080/"
        }
      },
      "outputs": [
        {
          "output_type": "execute_result",
          "data": {
            "text/plain": [
              "array([0., 1., 1., 1., 1., 0., 1., 0., 0., 1., 1., 1., 1., 1., 1., 0., 0.,\n",
              "       1., 1., 0., 1., 1., 0., 0., 0., 0., 1., 1., 1., 0., 1., 0., 0., 0.,\n",
              "       0., 0., 0., 1., 1., 0., 0., 1., 1., 0., 0., 1., 1., 1., 1., 0., 0.,\n",
              "       0., 1., 1., 0., 0., 1., 0., 0., 1., 1., 0., 0., 1., 0., 0., 1., 0.,\n",
              "       1., 1., 0., 1., 0., 1., 1., 0., 0., 1., 0., 0., 0., 0., 0., 0., 1.,\n",
              "       0., 0., 0., 1., 1., 1., 0., 1., 1., 0., 0., 1., 1., 1., 0., 1., 1.,\n",
              "       0., 0., 1., 0., 0., 1., 1., 0., 1., 0., 1., 0., 1., 1., 0., 0., 0.,\n",
              "       0., 0., 0., 1., 0., 0., 0., 0., 1., 1., 1., 0., 0., 0., 0., 1., 1.,\n",
              "       1., 0., 0., 1., 0., 1., 0., 1., 0., 0., 0., 1., 1., 0., 0., 0., 1.,\n",
              "       1., 1., 0., 1., 1., 1., 0., 1., 1., 1., 1., 0., 1., 1., 0., 1., 1.,\n",
              "       1., 0., 0., 0., 0., 0., 0., 1., 0., 0., 1., 1., 0., 1., 1., 1., 1.,\n",
              "       0., 1., 1., 1., 1., 0., 1., 1., 0., 1., 0., 0., 1.])"
            ]
          },
          "metadata": {},
          "execution_count": 62
        }
      ],
      "source": [
        "Y_final"
      ]
    },
    {
      "cell_type": "code",
      "execution_count": null,
      "id": "7ac132b5",
      "metadata": {
        "id": "7ac132b5",
        "outputId": "ec236e81-d878-4bbc-ddc0-d198d13dcde7",
        "colab": {
          "base_uri": "https://localhost:8080/"
        }
      },
      "outputs": [
        {
          "output_type": "execute_result",
          "data": {
            "text/plain": [
              "(200, 6252)"
            ]
          },
          "metadata": {},
          "execution_count": 63
        }
      ],
      "source": [
        "X_final.shape"
      ]
    },
    {
      "cell_type": "code",
      "execution_count": null,
      "id": "f4606c45",
      "metadata": {
        "id": "f4606c45",
        "outputId": "123591a8-72a9-4b41-d2e2-068570766042",
        "colab": {
          "base_uri": "https://localhost:8080/"
        }
      },
      "outputs": [
        {
          "output_type": "execute_result",
          "data": {
            "text/plain": [
              "(200,)"
            ]
          },
          "metadata": {},
          "execution_count": 64
        }
      ],
      "source": [
        "Y_final.shape\n"
      ]
    },
    {
      "cell_type": "code",
      "execution_count": null,
      "id": "e4bcdc4a",
      "metadata": {
        "id": "e4bcdc4a",
        "outputId": "398b9ab9-08b0-4dec-9984-991a3ccc7d2d",
        "colab": {
          "base_uri": "https://localhost:8080/",
          "height": 70
        }
      },
      "outputs": [
        {
          "output_type": "execute_result",
          "data": {
            "text/plain": [
              "'              precision    recall  f1-score   support\\n\\n         0.0       0.87      0.62      0.72        21\\n         1.0       0.68      0.89      0.77        19\\n\\n    accuracy                           0.75        40\\n   macro avg       0.77      0.76      0.75        40\\nweighted avg       0.78      0.75      0.75        40\\n'"
            ],
            "application/vnd.google.colaboratory.intrinsic+json": {
              "type": "string"
            }
          },
          "metadata": {},
          "execution_count": 66
        }
      ],
      "source": [
        "from sklearn.metrics import classification_report\n",
        "classification_result  = classification_report(Y_test,y_pred)\n",
        "classification_result"
      ]
    },
    {
      "cell_type": "code",
      "execution_count": null,
      "id": "942f8cdf",
      "metadata": {
        "id": "942f8cdf",
        "outputId": "10a4f664-47fe-4721-c64c-db788f2067cd",
        "colab": {
          "base_uri": "https://localhost:8080/"
        }
      },
      "outputs": [
        {
          "output_type": "execute_result",
          "data": {
            "text/plain": [
              "array([[13,  8],\n",
              "       [ 2, 17]])"
            ]
          },
          "metadata": {},
          "execution_count": 67
        }
      ],
      "source": [
        "confusion_result = confusion_matrix(Y_test,y_pred)\n",
        "confusion_result"
      ]
    },
    {
      "cell_type": "code",
      "source": [],
      "metadata": {
        "id": "dqDb2UjOHc7Q"
      },
      "id": "dqDb2UjOHc7Q",
      "execution_count": null,
      "outputs": []
    }
  ],
  "metadata": {
    "kernelspec": {
      "display_name": "Python 3 (ipykernel)",
      "language": "python",
      "name": "python3"
    },
    "language_info": {
      "codemirror_mode": {
        "name": "ipython",
        "version": 3
      },
      "file_extension": ".py",
      "mimetype": "text/x-python",
      "name": "python",
      "nbconvert_exporter": "python",
      "pygments_lexer": "ipython3",
      "version": "3.10.9"
    },
    "colab": {
      "provenance": []
    }
  },
  "nbformat": 4,
  "nbformat_minor": 5
}